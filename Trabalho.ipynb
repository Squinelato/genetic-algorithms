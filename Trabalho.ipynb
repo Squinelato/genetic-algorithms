{
 "cells": [
  {
   "cell_type": "markdown",
   "metadata": {},
   "source": [
    "## Importações"
   ]
  },
  {
   "cell_type": "code",
   "execution_count": 2,
   "metadata": {},
   "outputs": [],
   "source": [
    "import numpy as np\n",
    "import matplotlib.pyplot as plt\n",
    "import seaborn as sns\n",
    "import pandas as pd\n",
    "import time\n",
    "sns.set()\n",
    "plt.rc('text', usetex=True)\n",
    "plt.rc('font', family='serif')"
   ]
  },
  {
   "cell_type": "markdown",
   "metadata": {},
   "source": [
    "# Funções de benchmark:\n",
    "\n",
    "$$\n",
    "f_1(x) = \\sum_{i=1}^{n} \\; x_{i}^{2} \\qquad (1) \\\\\n",
    "f_2(x) = \\sum_{i=1}^{n} \\; |x_{i}| + \\prod_{i=1}^{n} \\; |x_{i}| \\qquad (2)\n",
    "$$\n",
    "\n",
    "## F1"
   ]
  },
  {
   "cell_type": "code",
   "execution_count": 3,
   "metadata": {},
   "outputs": [],
   "source": [
    "def f1(cromossomo):\n",
    "    \n",
    "    elevado = cromossomo ** 2\n",
    "    custo = np.sum(elevado)\n",
    "    \n",
    "    return custo"
   ]
  },
  {
   "cell_type": "markdown",
   "metadata": {},
   "source": [
    "## F2"
   ]
  },
  {
   "cell_type": "code",
   "execution_count": 4,
   "metadata": {},
   "outputs": [],
   "source": [
    "def f2(cromossomo):\n",
    "    \n",
    "    absoluto = np.absolute(cromossomo)\n",
    "    \n",
    "    somatorio = np.sum(absoluto)\n",
    "    probatorio = np.prod(absoluto)\n",
    "    \n",
    "    return somatorio + probatorio"
   ]
  },
  {
   "cell_type": "markdown",
   "metadata": {},
   "source": [
    "# Gerando população:"
   ]
  },
  {
   "cell_type": "code",
   "execution_count": 5,
   "metadata": {},
   "outputs": [],
   "source": [
    "def gerarPopulacao(limInf, limSup, qtdade, n):\n",
    "    \n",
    "    return np.random.uniform(limInf, limSup, (qtdade, n))"
   ]
  },
  {
   "cell_type": "markdown",
   "metadata": {},
   "source": [
    "# Torneio"
   ]
  },
  {
   "cell_type": "code",
   "execution_count": 6,
   "metadata": {},
   "outputs": [],
   "source": [
    "def torneio(populacao, f1):\n",
    "    \n",
    "    # calcula o fitness de toda a população\n",
    "    vetorCusto = np.apply_along_axis(func1d=f1, \n",
    "                                     axis=1, \n",
    "                                     arr=populacao)\n",
    "    \n",
    "    # checamos o tamanho da população\n",
    "    intervalo = populacao.shape[0]\n",
    "    \n",
    "    selecionados = np.array([])\n",
    "    \n",
    "    # selecionamos metade da população\n",
    "    for i in range(int(intervalo/2)):\n",
    "        \n",
    "        # escolhe dois indivíduos para duelar\n",
    "        escolhidos = np.random.choice(intervalo, 2, replace=False)\n",
    "        \n",
    "        # ficamos com o de menor fitness\n",
    "        menor = vetorCusto[escolhidos].min()\n",
    "        \n",
    "        # encontramos esse indivíduo da população e o selecionamos\n",
    "        indices = np.where(vetorCusto == menor)[0].astype(np.int64)\n",
    "        \n",
    "        # vamos criando nosso conjunto de selecionados\n",
    "        selecionados = np.append(selecionados, indices).astype(np.int64)\n",
    "    \n",
    "    # retorna a população selecionada (metade dela)\n",
    "    return populacao[selecionados, :]"
   ]
  },
  {
   "cell_type": "markdown",
   "metadata": {},
   "source": [
    "# Crossover Flat"
   ]
  },
  {
   "cell_type": "code",
   "execution_count": 7,
   "metadata": {},
   "outputs": [],
   "source": [
    "def crossoverFlat(A, B):\n",
    "    \n",
    "    # pegamos a quantidade de genes\n",
    "    dim = A.shape[0]\n",
    "    filhos = list()\n",
    "\n",
    "    # geramos os genes do filhos\n",
    "    for i in range(dim):\n",
    "        \n",
    "        # 4 genes são gerado tendo como limite sup e inf seus pais\n",
    "        genesFilhos = np.random.uniform(A[i], B[i], (4,))\n",
    "        filhos.append(genesFilhos)\n",
    "\n",
    "    # assim, com 2 pais, geramos 4 filhos\n",
    "    return np.array(filhos).T"
   ]
  },
  {
   "cell_type": "code",
   "execution_count": 8,
   "metadata": {},
   "outputs": [],
   "source": [
    "def recombinar(selecionados):\n",
    "    \n",
    "    quantidade = selecionados.shape[0]\n",
    "    filhos = list()\n",
    "    i = 0\n",
    "    \n",
    "    # pegamos os selecionados, de 2 em 2 de maneira incremental\n",
    "    while i < quantidade:\n",
    "        paiA = selecionados[i, :]\n",
    "        i += 1\n",
    "        paiB = selecionados[i, :]\n",
    "        i += 1 \n",
    "        \n",
    "        # 4 filhos são gerados\n",
    "        novosFilhos = crossoverFlat(paiA, paiB)\n",
    "        \n",
    "        for filho in novosFilhos:\n",
    "            filhos.append(filho)\n",
    "        \n",
    "    # aqui só sobram os filhos gerados pelo crossover flat\n",
    "    return np.array(filhos)"
   ]
  },
  {
   "cell_type": "markdown",
   "metadata": {},
   "source": [
    "# Mutação"
   ]
  },
  {
   "cell_type": "code",
   "execution_count": 9,
   "metadata": {},
   "outputs": [],
   "source": [
    "def mutarPopulacao(populacao, fator, limite, limInf, limSup):\n",
    "    \n",
    "    linhas, colunas = populacao.shape\n",
    "    \n",
    "    # gernado uma matriz de genes que serão mutados\n",
    "    mutados = np.random.randint(101, size=(linhas, colunas)) >= limite\n",
    "    \n",
    "    qtdade = mutados.sum()\n",
    "    \n",
    "    # aumentamos ou diminuimos os limites superiores para a mutação\n",
    "    inf = populacao[mutados]*(1 - fator)\n",
    "    sup = populacao[mutados]*(1 + fator)\n",
    "    \n",
    "    # gerantimos que os genes estará na região factível\n",
    "    np.putmask(inf, inf < limInf, limInf)\n",
    "    np.putmask(inf, inf > limSup, limSup)\n",
    "    np.putmask(sup, sup > limSup, limSup)\n",
    "    np.putmask(sup, sup < limInf, limInf)\n",
    "    \n",
    "    # apenas os genes sorteados serão mutados\n",
    "    populacao[mutados] = np.random.uniform(low=inf, high=sup, size=(qtdade,))"
   ]
  },
  {
   "cell_type": "markdown",
   "metadata": {},
   "source": [
    "# Ciclo"
   ]
  },
  {
   "cell_type": "code",
   "execution_count": 10,
   "metadata": {},
   "outputs": [],
   "source": [
    "def algoritmoGenetico(funcao, fator, limite, limInf, limSup, qtdade, n):\n",
    "    \n",
    "    \n",
    "    start_time = time.time()\n",
    "    \n",
    "    # gerando a população inicial\n",
    "    populacao = gerarPopulacao(limInf, limSup, qtdade, n)\n",
    "    \n",
    "    # calculando o fitness\n",
    "    valores   = np.apply_along_axis(func1d=funcao, \n",
    "                                    axis=1, \n",
    "                                    arr=populacao)\n",
    "    \n",
    "    count     = 0\n",
    "    \n",
    "    # checa se o melhor indivíduo está próximo da solução\n",
    "    while valores.min() > 1e-30:\n",
    "        \n",
    "        # seleciona os indivíduos\n",
    "        selecionados = torneio(populacao, funcao)\n",
    "        \n",
    "        # é feita a recombinação\n",
    "        recombinados = recombinar(selecionados)\n",
    "        \n",
    "        # são mutados os indivíduos \n",
    "        mutarPopulacao(recombinados, fator, limite, limInf, limSup)\n",
    "        \n",
    "        # a população é substituída\n",
    "        populacao    = recombinados\n",
    "        \n",
    "        # o fitness é recalculado\n",
    "        valores      = np.apply_along_axis(func1d=funcao, \n",
    "                                           axis=1, \n",
    "                                           arr=populacao)\n",
    "        count += 1\n",
    "        \n",
    "        #print(valores.min())\n",
    "\n",
    "    elapsed_time = time.time() - start_time\n",
    "        \n",
    "    return count, elapsed_time"
   ]
  },
  {
   "cell_type": "code",
   "execution_count": 13,
   "metadata": {
    "scrolled": true
   },
   "outputs": [
    {
     "name": "stdout",
     "output_type": "stream",
     "text": [
      "CPU times: user 207 ms, sys: 0 ns, total: 207 ms\n",
      "Wall time: 208 ms\n"
     ]
    },
    {
     "data": {
      "text/plain": [
       "(235, 0.20786499977111816)"
      ]
     },
     "execution_count": 13,
     "metadata": {},
     "output_type": "execute_result"
    }
   ],
   "source": [
    "%time algoritmoGenetico(funcao=f1, fator=1, limite=0, limInf=-100, limSup=100, qtdade=8, n=30)"
   ]
  },
  {
   "cell_type": "markdown",
   "metadata": {},
   "source": [
    "# Análise dos Resultados\n",
    "## Gerando Dados"
   ]
  },
  {
   "cell_type": "code",
   "execution_count": 58,
   "metadata": {},
   "outputs": [],
   "source": [
    "def analise(func, Inf, Sup):\n",
    "    interacoes1 = list()\n",
    "    interacoes2 = list()\n",
    "    interacoes3 = list()\n",
    "    interacoes4 = list()\n",
    "\n",
    "    for i in range(30):\n",
    "        valor1 = algoritmoGenetico(funcao=func, fator=0.5, limite=80, limInf=Inf, limSup=Sup, qtdade=8, n=30)\n",
    "        valor2 = algoritmoGenetico(funcao=func, fator=0.7, limite=50, limInf=Inf, limSup=Sup, qtdade=8, n=30)\n",
    "        valor3 = algoritmoGenetico(funcao=func, fator=0.9, limite=20, limInf=Inf, limSup=Sup, qtdade=8, n=30)\n",
    "        valor4 = algoritmoGenetico(funcao=func, fator=1, limite=0, limInf=Inf, limSup=Sup, qtdade=8, n=30)\n",
    "\n",
    "        interacoes1.append(valor1)\n",
    "        interacoes2.append(valor2)\n",
    "        interacoes3.append(valor3)\n",
    "        interacoes4.append(valor4)\n",
    "\n",
    "    quantidade1, tempo1 = zip(*interacoes1)\n",
    "    quantidade2, tempo2 = zip(*interacoes2)\n",
    "    quantidade3, tempo3 = zip(*interacoes3)\n",
    "    quantidade4, tempo4 = zip(*interacoes4)\n",
    "\n",
    "    tempo = [round(np.mean(tempo1)*1000, 3), round(np.mean(tempo2)*1000, 3), \n",
    "             round(np.mean(tempo3)*1000, 3), round(np.mean(tempo4)*1000, 3)]\n",
    "    \n",
    "    interacoes = [round(np.mean(quantidade1), 3), round(np.mean(quantidade2), 3), \n",
    "                  round(np.mean(quantidade3), 3), round(np.mean(quantidade4), 3)]\n",
    "    \n",
    "    desvioTempo = [round(np.std(tempo1)*1000, 3), round(np.std(tempo2)*1000, 3), \n",
    "                   round(np.std(tempo3)*1000, 3), round(np.std(tempo4)*1000, 3)]\n",
    "    \n",
    "    desvioInteracoes = [round(np.std(quantidade1), 3), round(np.std(quantidade2), 3), \n",
    "                        round(np.std(quantidade3), 3), round(np.std(quantidade4), 3)]\n",
    "    \n",
    "    return tempo, interacoes, desvioTempo, desvioInteracoes"
   ]
  },
  {
   "cell_type": "markdown",
   "metadata": {},
   "source": [
    "## Gráfico"
   ]
  },
  {
   "cell_type": "code",
   "execution_count": 59,
   "metadata": {},
   "outputs": [],
   "source": [
    "def gerar_grafico(tempo, interacoes, figura):\n",
    "    \n",
    "    for i in range(4):\n",
    "        \n",
    "        # gerando linhas verticais\n",
    "        plt.vlines(tempo[i], 0, interacoes[i])\n",
    "        # gernado pontos em cima das linhas\n",
    "        plt.plot(tempo[i], interacoes[i], \"o\")\n",
    "        # tempos um lollipop graph\n",
    "    \n",
    "    # limitando o eixo y\n",
    "    plt.ylim([0, interacoes[0]+200])\n",
    "    # ticando o eixo x com valores em análise\n",
    "    plt.xticks(tempo, rotation=45)\n",
    "    # ticando o eixo y com valores em análise\n",
    "    plt.yticks(interacoes)\n",
    "\n",
    "    # rotulando eixos, legenda e título\n",
    "    plt.xlabel('Tempo (milissegundos)')\n",
    "    plt.ylabel('Interações')\n",
    "    plt.legend(['$H_1$', '$H_2$', '$H_3$', '$H_4$'])\n",
    "    plt.title('$f_%d$ com 8 indivíduos' % figura, fontsize=20)\n",
    "\n",
    "    # salvando e mostrando o gáfico\n",
    "    plt.savefig('f%d.svg' % figura, bbox_inches='tight')\n",
    "    plt.show()"
   ]
  },
  {
   "cell_type": "code",
   "execution_count": 60,
   "metadata": {},
   "outputs": [],
   "source": [
    "tempoF1, interacoesF1, desvioTF1, desvioIF1 = analise(f1, -100, 100)\n",
    "tempoF2, interacoesF2, desvioTF2, desvioIF2 = analise(f2, -10, 10)"
   ]
  },
  {
   "cell_type": "code",
   "execution_count": 61,
   "metadata": {},
   "outputs": [
    {
     "data": {
      "image/png": "[encoded data removed]",
      "text/plain": [
       "<Figure size 432x288 with 1 Axes>"
      ]
     },
     "metadata": {},
     "output_type": "display_data"
    }
   ],
   "source": [
    "gerar_grafico(tempoF1, interacoesF1, 1)"
   ]
  },
  {
   "cell_type": "code",
   "execution_count": 62,
   "metadata": {},
   "outputs": [
    {
     "data": {
      "image/png": "[encoded data removed]",
      "text/plain": [
       "<Figure size 432x288 with 1 Axes>"
      ]
     },
     "metadata": {},
     "output_type": "display_data"
    }
   ],
   "source": [
    "gerar_grafico(tempoF2, interacoesF2, 2)"
   ]
  },
  {
   "cell_type": "markdown",
   "metadata": {},
   "source": [
    "## Tabelas"
   ]
  },
  {
   "cell_type": "code",
   "execution_count": 71,
   "metadata": {},
   "outputs": [],
   "source": [
    "def gerar_tabela(colUm, dado, colDois, desvio, nome):\n",
    "    tabela = pd.DataFrame({colUm : dado, \n",
    "                           colDois: desvio}, \n",
    "                          index=['$H_1$', '$H_2$', '$H_3$', '$H_4$'])\n",
    "    tabela.index.name = 'Hyperparameter'\n",
    "\n",
    "    with open('%s.tex' % nome,'w') as tb:\n",
    "        tb.write(tabela.to_latex())\n",
    "\n",
    "    return tabela"
   ]
  },
  {
   "cell_type": "code",
   "execution_count": 72,
   "metadata": {},
   "outputs": [
    {
     "data": {
      "text/html": [
       "<div>\n",
       "<style scoped>\n",
       "    .dataframe tbody tr th:only-of-type {\n",
       "        vertical-align: middle;\n",
       "    }\n",
       "\n",
       "    .dataframe tbody tr th {\n",
       "        vertical-align: top;\n",
       "    }\n",
       "\n",
       "    .dataframe thead th {\n",
       "        text-align: right;\n",
       "    }\n",
       "</style>\n",
       "<table border=\"1\" class=\"dataframe\">\n",
       "  <thead>\n",
       "    <tr style=\"text-align: right;\">\n",
       "      <th></th>\n",
       "      <th>Tempo (ms)</th>\n",
       "      <th>Desvio (ms)</th>\n",
       "    </tr>\n",
       "    <tr>\n",
       "      <th>Hyperparameter</th>\n",
       "      <th></th>\n",
       "      <th></th>\n",
       "    </tr>\n",
       "  </thead>\n",
       "  <tbody>\n",
       "    <tr>\n",
       "      <th>$H_1$</th>\n",
       "      <td>1693.957</td>\n",
       "      <td>42.666</td>\n",
       "    </tr>\n",
       "    <tr>\n",
       "      <th>$H_2$</th>\n",
       "      <td>634.236</td>\n",
       "      <td>23.709</td>\n",
       "    </tr>\n",
       "    <tr>\n",
       "      <th>$H_3$</th>\n",
       "      <td>287.299</td>\n",
       "      <td>11.840</td>\n",
       "    </tr>\n",
       "    <tr>\n",
       "      <th>$H_4$</th>\n",
       "      <td>181.271</td>\n",
       "      <td>9.010</td>\n",
       "    </tr>\n",
       "  </tbody>\n",
       "</table>\n",
       "</div>"
      ],
      "text/plain": [
       "                Tempo (ms)  Desvio (ms)\n",
       "Hyperparameter                         \n",
       "$H_1$             1693.957       42.666\n",
       "$H_2$              634.236       23.709\n",
       "$H_3$              287.299       11.840\n",
       "$H_4$              181.271        9.010"
      ]
     },
     "execution_count": 72,
     "metadata": {},
     "output_type": "execute_result"
    }
   ],
   "source": [
    "gerar_tabela('Tempo (ms)', tempoF1, 'Desvio (ms)', desvioTF1, 'TabelaF1Tempo')"
   ]
  },
  {
   "cell_type": "code",
   "execution_count": 73,
   "metadata": {},
   "outputs": [
    {
     "data": {
      "text/html": [
       "<div>\n",
       "<style scoped>\n",
       "    .dataframe tbody tr th:only-of-type {\n",
       "        vertical-align: middle;\n",
       "    }\n",
       "\n",
       "    .dataframe tbody tr th {\n",
       "        vertical-align: top;\n",
       "    }\n",
       "\n",
       "    .dataframe thead th {\n",
       "        text-align: right;\n",
       "    }\n",
       "</style>\n",
       "<table border=\"1\" class=\"dataframe\">\n",
       "  <thead>\n",
       "    <tr style=\"text-align: right;\">\n",
       "      <th></th>\n",
       "      <th>Tempo (ms)</th>\n",
       "      <th>Desvio (ms)</th>\n",
       "    </tr>\n",
       "    <tr>\n",
       "      <th>Hyperparameter</th>\n",
       "      <th></th>\n",
       "      <th></th>\n",
       "    </tr>\n",
       "  </thead>\n",
       "  <tbody>\n",
       "    <tr>\n",
       "      <th>$H_1$</th>\n",
       "      <td>2955.110</td>\n",
       "      <td>35.554</td>\n",
       "    </tr>\n",
       "    <tr>\n",
       "      <th>$H_2$</th>\n",
       "      <td>1084.760</td>\n",
       "      <td>27.030</td>\n",
       "    </tr>\n",
       "    <tr>\n",
       "      <th>$H_3$</th>\n",
       "      <td>499.654</td>\n",
       "      <td>27.245</td>\n",
       "    </tr>\n",
       "    <tr>\n",
       "      <th>$H_4$</th>\n",
       "      <td>308.211</td>\n",
       "      <td>12.948</td>\n",
       "    </tr>\n",
       "  </tbody>\n",
       "</table>\n",
       "</div>"
      ],
      "text/plain": [
       "                Tempo (ms)  Desvio (ms)\n",
       "Hyperparameter                         \n",
       "$H_1$             2955.110       35.554\n",
       "$H_2$             1084.760       27.030\n",
       "$H_3$              499.654       27.245\n",
       "$H_4$              308.211       12.948"
      ]
     },
     "execution_count": 73,
     "metadata": {},
     "output_type": "execute_result"
    }
   ],
   "source": [
    "gerar_tabela('Tempo (ms)', tempoF2, 'Desvio (ms)', desvioTF2, 'TabelaF2Tempo')"
   ]
  },
  {
   "cell_type": "code",
   "execution_count": 74,
   "metadata": {},
   "outputs": [
    {
     "data": {
      "text/html": [
       "<div>\n",
       "<style scoped>\n",
       "    .dataframe tbody tr th:only-of-type {\n",
       "        vertical-align: middle;\n",
       "    }\n",
       "\n",
       "    .dataframe tbody tr th {\n",
       "        vertical-align: top;\n",
       "    }\n",
       "\n",
       "    .dataframe thead th {\n",
       "        text-align: right;\n",
       "    }\n",
       "</style>\n",
       "<table border=\"1\" class=\"dataframe\">\n",
       "  <thead>\n",
       "    <tr style=\"text-align: right;\">\n",
       "      <th></th>\n",
       "      <th>Interações</th>\n",
       "      <th>Desvio</th>\n",
       "    </tr>\n",
       "    <tr>\n",
       "      <th>Hyperparameter</th>\n",
       "      <th></th>\n",
       "      <th></th>\n",
       "    </tr>\n",
       "  </thead>\n",
       "  <tbody>\n",
       "    <tr>\n",
       "      <th>$H_1$</th>\n",
       "      <td>2275.700</td>\n",
       "      <td>49.154</td>\n",
       "    </tr>\n",
       "    <tr>\n",
       "      <th>$H_2$</th>\n",
       "      <td>846.367</td>\n",
       "      <td>32.487</td>\n",
       "    </tr>\n",
       "    <tr>\n",
       "      <th>$H_3$</th>\n",
       "      <td>383.600</td>\n",
       "      <td>15.709</td>\n",
       "    </tr>\n",
       "    <tr>\n",
       "      <th>$H_4$</th>\n",
       "      <td>243.767</td>\n",
       "      <td>11.701</td>\n",
       "    </tr>\n",
       "  </tbody>\n",
       "</table>\n",
       "</div>"
      ],
      "text/plain": [
       "                Interações  Desvio\n",
       "Hyperparameter                    \n",
       "$H_1$             2275.700  49.154\n",
       "$H_2$              846.367  32.487\n",
       "$H_3$              383.600  15.709\n",
       "$H_4$              243.767  11.701"
      ]
     },
     "execution_count": 74,
     "metadata": {},
     "output_type": "execute_result"
    }
   ],
   "source": [
    "gerar_tabela('Interações', interacoesF1, 'Desvio', desvioIF1, 'TabelaF1Interacoes')"
   ]
  },
  {
   "cell_type": "code",
   "execution_count": 75,
   "metadata": {},
   "outputs": [
    {
     "data": {
      "text/html": [
       "<div>\n",
       "<style scoped>\n",
       "    .dataframe tbody tr th:only-of-type {\n",
       "        vertical-align: middle;\n",
       "    }\n",
       "\n",
       "    .dataframe tbody tr th {\n",
       "        vertical-align: top;\n",
       "    }\n",
       "\n",
       "    .dataframe thead th {\n",
       "        text-align: right;\n",
       "    }\n",
       "</style>\n",
       "<table border=\"1\" class=\"dataframe\">\n",
       "  <thead>\n",
       "    <tr style=\"text-align: right;\">\n",
       "      <th></th>\n",
       "      <th>Interações</th>\n",
       "      <th>Desvio</th>\n",
       "    </tr>\n",
       "    <tr>\n",
       "      <th>Hyperparameter</th>\n",
       "      <th></th>\n",
       "      <th></th>\n",
       "    </tr>\n",
       "  </thead>\n",
       "  <tbody>\n",
       "    <tr>\n",
       "      <th>$H_1$</th>\n",
       "      <td>3735.600</td>\n",
       "      <td>46.003</td>\n",
       "    </tr>\n",
       "    <tr>\n",
       "      <th>$H_2$</th>\n",
       "      <td>1361.433</td>\n",
       "      <td>22.920</td>\n",
       "    </tr>\n",
       "    <tr>\n",
       "      <th>$H_3$</th>\n",
       "      <td>617.600</td>\n",
       "      <td>17.947</td>\n",
       "    </tr>\n",
       "    <tr>\n",
       "      <th>$H_4$</th>\n",
       "      <td>387.900</td>\n",
       "      <td>16.051</td>\n",
       "    </tr>\n",
       "  </tbody>\n",
       "</table>\n",
       "</div>"
      ],
      "text/plain": [
       "                Interações  Desvio\n",
       "Hyperparameter                    \n",
       "$H_1$             3735.600  46.003\n",
       "$H_2$             1361.433  22.920\n",
       "$H_3$              617.600  17.947\n",
       "$H_4$              387.900  16.051"
      ]
     },
     "execution_count": 75,
     "metadata": {},
     "output_type": "execute_result"
    }
   ],
   "source": [
    "gerar_tabela('Interações', interacoesF2, 'Desvio', desvioIF2, 'TabelaF2Interacoes')"
   ]
  },
  {
   "cell_type": "code",
   "execution_count": null,
   "metadata": {},
   "outputs": [],
   "source": []
  }
 ],
 "metadata": {
  "kernelspec": {
   "display_name": "Python 3",
   "language": "python",
   "name": "python3"
  },
  "language_info": {
   "codemirror_mode": {
    "name": "ipython",
    "version": 3
   },
   "file_extension": ".py",
   "mimetype": "text/x-python",
   "name": "python",
   "nbconvert_exporter": "python",
   "pygments_lexer": "ipython3",
   "version": "3.7.3"
  }
 },
 "nbformat": 4,
 "nbformat_minor": 2
}
